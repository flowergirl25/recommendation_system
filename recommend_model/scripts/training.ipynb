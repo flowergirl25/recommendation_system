{
 "cells": [
  {
   "cell_type": "code",
   "execution_count": 10,
   "id": "b137ba35",
   "metadata": {},
   "outputs": [
    {
     "name": "stdout",
     "output_type": "stream",
     "text": [
      " User-Movie matrix created: (610, 2187)\n",
      " Item-Item similarity matrix created: (2187, 2187)\n",
      " Item similarity matrix saved at: D:/movie_recommendation_system/rcmndn_model/trained_models/item_similarity.pkl\n",
      "\n",
      "🎬 Collaborative Filtering Recommendations for 'Toy Story (1995)':\n",
      "     movieId                                      title  \\\n",
      "80       260  Star Wars: Episode IV - A New Hope (1977)   \n",
      "103      356                        Forrest Gump (1994)   \n",
      "128      480                       Jurassic Park (1993)   \n",
      "187      780       Independence Day (a.k.a. ID4) (1996)   \n",
      "865     3114                         Toy Story 2 (1999)   \n",
      "\n",
      "                                          genres  vote_average  \n",
      "80                       Action|Adventure|Sci-Fi           8.1  \n",
      "103                     Comedy|Drama|Romance|War           8.2  \n",
      "128             Action|Adventure|Sci-Fi|Thriller           7.6  \n",
      "187             Action|Adventure|Sci-Fi|Thriller           6.7  \n",
      "865  Adventure|Animation|Children|Comedy|Fantasy           7.3  \n"
     ]
    }
   ],
   "source": [
    "import pandas as pd\n",
    "from sklearn.metrics.pairwise import cosine_similarity\n",
    "import os\n",
    "import pickle\n",
    "\n",
    "# Paths\n",
    "ratings_path = \"D:/movie_recommendation_system/rcmndn_model/data/processed/ratings_final.csv\"\n",
    "movies_path = \"D:/movie_recommendation_system/rcmndn_model/data/processed/movies_cleaned.csv\"\n",
    "save_path = \"D:/movie_recommendation_system/rcmndn_model/trained_models/item_similarity.pkl\"\n",
    "\n",
    "# 1. Load data\n",
    "ratings = pd.read_csv(ratings_path)\n",
    "movies = pd.read_csv(movies_path)\n",
    "\n",
    "# 2. Create user–movie matrix\n",
    "user_movie_matrix = ratings.pivot(index=\"userId\", columns=\"movieId\", values=\"rating\").fillna(0)\n",
    "print(f\" User-Movie matrix created: {user_movie_matrix.shape}\")\n",
    "\n",
    "# 3. Compute cosine similarity between movies\n",
    "item_similarity = cosine_similarity(user_movie_matrix.T)  # movies × movies\n",
    "item_similarity_df = pd.DataFrame(\n",
    "    item_similarity,\n",
    "    index=user_movie_matrix.columns,\n",
    "    columns=user_movie_matrix.columns\n",
    ")\n",
    "print(f\" Item-Item similarity matrix created: {item_similarity_df.shape}\")\n",
    "\n",
    "# 4. Save similarity matrix\n",
    "os.makedirs(os.path.dirname(save_path), exist_ok=True)\n",
    "with open(save_path, \"wb\") as f:\n",
    "    pickle.dump(item_similarity_df, f)\n",
    "\n",
    "print(f\" Item similarity matrix saved at: {save_path}\")\n",
    "\n",
    "# 5. Function to recommend movies\n",
    "def recommend_movies_cf(movie_id, top_n=5):\n",
    "    if movie_id not in item_similarity_df.index:\n",
    "        return pd.DataFrame({\"Message\": [f\"Movie ID {movie_id} not found in dataset\"]})\n",
    "\n",
    "    # Get similarity scores\n",
    "    sim_scores = item_similarity_df[movie_id].sort_values(ascending=False)\n",
    "\n",
    "    # Drop the same movie\n",
    "    sim_scores = sim_scores.drop(movie_id)\n",
    "\n",
    "    # Top N\n",
    "    top_movies = sim_scores.head(top_n).index\n",
    "    return movies[movies[\"movieId\"].isin(top_movies)][[\"movieId\", \"title\", \"genres\", \"vote_average\"]]\n",
    "\n",
    "# --- Quick test ---\n",
    "test_movie_id = 1  # Toy Story (1995)\n",
    "print(f\"\\n🎬 Collaborative Filtering Recommendations for '{movies[movies['movieId']==test_movie_id]['title'].values[0]}':\")\n",
    "print(recommend_movies_cf(test_movie_id, top_n=5))\n"
   ]
  }
 ],
 "metadata": {
  "kernelspec": {
   "display_name": "venv",
   "language": "python",
   "name": "python3"
  },
  "language_info": {
   "codemirror_mode": {
    "name": "ipython",
    "version": 3
   },
   "file_extension": ".py",
   "mimetype": "text/x-python",
   "name": "python",
   "nbconvert_exporter": "python",
   "pygments_lexer": "ipython3",
   "version": "3.11.9"
  }
 },
 "nbformat": 4,
 "nbformat_minor": 5
}
