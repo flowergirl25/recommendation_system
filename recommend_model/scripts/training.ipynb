{
 "cells": [
  {
   "cell_type": "code",
   "execution_count": 6,
   "id": "ef98a62a",
   "metadata": {},
   "outputs": [
    {
     "name": "stdout",
     "output_type": "stream",
     "text": [
      " Loaded features and movies dataset\n",
      "(3537, 5025) (3537, 16)\n"
     ]
    }
   ],
   "source": [
    "import os\n",
    "import pickle\n",
    "import pandas as pd\n",
    "from scipy.sparse import load_npz\n",
    "from sklearn.metrics.pairwise import cosine_similarity\n",
    "\n",
    "# Paths\n",
    "trained_dir = \"D:/movie_recommendation_system/rcmndn_model/trained_models\"\n",
    "data_dir = \"D:/movie_recommendation_system/rcmndn_model/data/processed\"\n",
    "\n",
    "# Load data\n",
    "X_content = load_npz(os.path.join(trained_dir, \"X_content_v2.npz\"))\n",
    "movies = pd.read_csv(os.path.join(data_dir, \"movies_cleaned.csv\"))\n",
    "\n",
    "print(\" Loaded features and movies dataset\")\n",
    "print(X_content.shape, movies.shape)\n"
   ]
  },
  {
   "cell_type": "code",
   "execution_count": 7,
   "id": "15660ad0",
   "metadata": {},
   "outputs": [
    {
     "name": "stdout",
     "output_type": "stream",
     "text": [
      " Cosine similarity matrix computed and saved\n"
     ]
    }
   ],
   "source": [
    "# Compute cosine similarity\n",
    "cosine_sim = cosine_similarity(X_content, X_content)\n",
    "\n",
    "# Save similarity matrix\n",
    "with open(os.path.join(trained_dir, \"cosine_sim.pkl\"), \"wb\") as f:\n",
    "    pickle.dump(cosine_sim, f)\n",
    "\n",
    "print(\" Cosine similarity matrix computed and saved\")\n"
   ]
  },
  {
   "cell_type": "code",
   "execution_count": 8,
   "id": "d96e6291",
   "metadata": {},
   "outputs": [],
   "source": [
    "def recommend_movies(title, top_n=10):\n",
    "    # Check if movie exists\n",
    "    if title not in movies['title'].values:\n",
    "        print(\" Movie not found in dataset\")\n",
    "        return []\n",
    "    \n",
    "    # Get index of the movie\n",
    "    idx = movies[movies['title'] == title].index[0]\n",
    "    \n",
    "    # Get similarity scores\n",
    "    sim_scores = list(enumerate(cosine_sim[idx]))\n",
    "    \n",
    "    # Sort by similarity (skip the movie itself at index 0)\n",
    "    sim_scores = sorted(sim_scores, key=lambda x: x[1], reverse=True)[1:top_n+1]\n",
    "    \n",
    "    # Get top movie indices\n",
    "    movie_indices = [i[0] for i in sim_scores]\n",
    "    \n",
    "    # Return relevant columns\n",
    "    return movies.iloc[movie_indices][['title', 'genres', 'vote_average']]\n"
   ]
  },
  {
   "cell_type": "code",
   "execution_count": 9,
   "id": "a235b660",
   "metadata": {},
   "outputs": [
    {
     "name": "stdout",
     "output_type": "stream",
     "text": [
      "\n",
      "🎬 Recommendations for 'Toy Story (1995)':\n",
      "                           title  \\\n",
      "2743          Toy Story 3 (2010)   \n",
      "865           Toy Story 2 (1999)   \n",
      "1286       Monsters, Inc. (2001)   \n",
      "3167      Despicable Me 2 (2013)   \n",
      "2325  Simpsons Movie, The (2007)   \n",
      "\n",
      "                                                genres  vote_average  \n",
      "2743  Adventure|Animation|Children|Comedy|Fantasy|IMAX           7.6  \n",
      "865        Adventure|Animation|Children|Comedy|Fantasy           7.3  \n",
      "1286       Adventure|Animation|Children|Comedy|Fantasy           7.5  \n",
      "3167                    Animation|Children|Comedy|IMAX           7.0  \n",
      "2325                                  Animation|Comedy           6.9  \n"
     ]
    }
   ],
   "source": [
    "print(\"\\n🎬 Recommendations for 'Toy Story (1995)':\")\n",
    "print(recommend_movies(\"Toy Story (1995)\", top_n=5))\n"
   ]
  },
  {
   "cell_type": "code",
   "execution_count": 10,
   "id": "b137ba35",
   "metadata": {},
   "outputs": [
    {
     "name": "stdout",
     "output_type": "stream",
     "text": [
      " User-Movie matrix created: (610, 2187)\n",
      " Item-Item similarity matrix created: (2187, 2187)\n",
      " Item similarity matrix saved at: D:/movie_recommendation_system/rcmndn_model/trained_models/item_similarity.pkl\n",
      "\n",
      "🎬 Collaborative Filtering Recommendations for 'Toy Story (1995)':\n",
      "     movieId                                      title  \\\n",
      "80       260  Star Wars: Episode IV - A New Hope (1977)   \n",
      "103      356                        Forrest Gump (1994)   \n",
      "128      480                       Jurassic Park (1993)   \n",
      "187      780       Independence Day (a.k.a. ID4) (1996)   \n",
      "865     3114                         Toy Story 2 (1999)   \n",
      "\n",
      "                                          genres  vote_average  \n",
      "80                       Action|Adventure|Sci-Fi           8.1  \n",
      "103                     Comedy|Drama|Romance|War           8.2  \n",
      "128             Action|Adventure|Sci-Fi|Thriller           7.6  \n",
      "187             Action|Adventure|Sci-Fi|Thriller           6.7  \n",
      "865  Adventure|Animation|Children|Comedy|Fantasy           7.3  \n"
     ]
    }
   ],
   "source": [
    "import pandas as pd\n",
    "from sklearn.metrics.pairwise import cosine_similarity\n",
    "import os\n",
    "import pickle\n",
    "\n",
    "# Paths\n",
    "ratings_path = \"D:/movie_recommendation_system/rcmndn_model/data/processed/ratings_final.csv\"\n",
    "movies_path = \"D:/movie_recommendation_system/rcmndn_model/data/processed/movies_cleaned.csv\"\n",
    "save_path = \"D:/movie_recommendation_system/rcmndn_model/trained_models/item_similarity.pkl\"\n",
    "\n",
    "# 1. Load data\n",
    "ratings = pd.read_csv(ratings_path)\n",
    "movies = pd.read_csv(movies_path)\n",
    "\n",
    "# 2. Create user–movie matrix\n",
    "user_movie_matrix = ratings.pivot(index=\"userId\", columns=\"movieId\", values=\"rating\").fillna(0)\n",
    "print(f\" User-Movie matrix created: {user_movie_matrix.shape}\")\n",
    "\n",
    "# 3. Compute cosine similarity between movies\n",
    "item_similarity = cosine_similarity(user_movie_matrix.T)  # movies × movies\n",
    "item_similarity_df = pd.DataFrame(\n",
    "    item_similarity,\n",
    "    index=user_movie_matrix.columns,\n",
    "    columns=user_movie_matrix.columns\n",
    ")\n",
    "print(f\" Item-Item similarity matrix created: {item_similarity_df.shape}\")\n",
    "\n",
    "# 4. Save similarity matrix\n",
    "os.makedirs(os.path.dirname(save_path), exist_ok=True)\n",
    "with open(save_path, \"wb\") as f:\n",
    "    pickle.dump(item_similarity_df, f)\n",
    "\n",
    "print(f\" Item similarity matrix saved at: {save_path}\")\n",
    "\n",
    "# 5. Function to recommend movies\n",
    "def recommend_movies_cf(movie_id, top_n=5):\n",
    "    if movie_id not in item_similarity_df.index:\n",
    "        return pd.DataFrame({\"Message\": [f\"Movie ID {movie_id} not found in dataset\"]})\n",
    "\n",
    "    # Get similarity scores\n",
    "    sim_scores = item_similarity_df[movie_id].sort_values(ascending=False)\n",
    "\n",
    "    # Drop the same movie\n",
    "    sim_scores = sim_scores.drop(movie_id)\n",
    "\n",
    "    # Top N\n",
    "    top_movies = sim_scores.head(top_n).index\n",
    "    return movies[movies[\"movieId\"].isin(top_movies)][[\"movieId\", \"title\", \"genres\", \"vote_average\"]]\n",
    "\n",
    "# --- Quick test ---\n",
    "test_movie_id = 1  # Toy Story (1995)\n",
    "print(f\"\\n🎬 Collaborative Filtering Recommendations for '{movies[movies['movieId']==test_movie_id]['title'].values[0]}':\")\n",
    "print(recommend_movies_cf(test_movie_id, top_n=5))\n"
   ]
  }
 ],
 "metadata": {
  "kernelspec": {
   "display_name": "venv",
   "language": "python",
   "name": "python3"
  },
  "language_info": {
   "codemirror_mode": {
    "name": "ipython",
    "version": 3
   },
   "file_extension": ".py",
   "mimetype": "text/x-python",
   "name": "python",
   "nbconvert_exporter": "python",
   "pygments_lexer": "ipython3",
   "version": "3.11.9"
  }
 },
 "nbformat": 4,
 "nbformat_minor": 5
}
