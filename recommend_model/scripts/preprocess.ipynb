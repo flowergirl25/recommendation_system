{
 "cells": [
  {
   "cell_type": "code",
   "execution_count": 15,
   "id": "3c0d85e6",
   "metadata": {},
   "outputs": [],
   "source": [
    "import pandas as pd\n",
    "from sklearn.preprocessing import MultiLabelBinarizer"
   ]
  },
  {
   "cell_type": "code",
   "execution_count": 16,
   "id": "54019e86",
   "metadata": {},
   "outputs": [],
   "source": [
    "# Load cleaned dataset\n",
    "movies = pd.read_csv(\"D:/movie_recommendation_system/rcmndn_model/data/processed/movies_cleaned.csv\")\n"
   ]
  },
  {
   "cell_type": "code",
   "execution_count": 17,
   "id": "01c12843",
   "metadata": {},
   "outputs": [],
   "source": [
    "# Step 1: Apply MultiLabelBinarizer on genres_y\n",
    "mlb = MultiLabelBinarizer()\n",
    "genres_encoded = mlb.fit_transform(movies['genres_y'].apply(eval))  # eval converts string \"[...]\" to list"
   ]
  },
  {
   "cell_type": "code",
   "execution_count": 18,
   "id": "a48471dd",
   "metadata": {},
   "outputs": [],
   "source": [
    "# Step 2: Create a DataFrame for genres\n",
    "genres_df = pd.DataFrame(genres_encoded, columns=mlb.classes_, index=movies.index)\n"
   ]
  },
  {
   "cell_type": "code",
   "execution_count": 19,
   "id": "472b42f7",
   "metadata": {},
   "outputs": [],
   "source": [
    "# Step 3: Concatenate with original movies dataframe (optional, for inspection)\n",
    "movies_genres = pd.concat([movies[['movieId', 'title']], genres_df], axis=1)\n"
   ]
  },
  {
   "cell_type": "code",
   "execution_count": 20,
   "id": "92453947",
   "metadata": {},
   "outputs": [
    {
     "name": "stdout",
     "output_type": "stream",
     "text": [
      " Genres encoded with MultiLabelBinarizer\n",
      "   movieId                           title  Action  Adventure  Animation  \\\n",
      "0        1                Toy Story (1995)       0          0          1   \n",
      "1       10                GoldenEye (1995)       1          1          0   \n",
      "2       11  American President, The (1995)       0          0          0   \n",
      "3       14                    Nixon (1995)       0          0          0   \n",
      "4       15         Cutthroat Island (1995)       1          1          0   \n",
      "\n",
      "   Comedy  Crime  Documentary  Drama  Family  ...  History  Horror  Music  \\\n",
      "0       1      0            0      0       1  ...        0       0      0   \n",
      "1       0      0            0      0       0  ...        0       0      0   \n",
      "2       1      0            0      1       0  ...        0       0      0   \n",
      "3       0      0            0      1       0  ...        1       0      0   \n",
      "4       0      0            0      0       0  ...        0       0      0   \n",
      "\n",
      "   Mystery  Romance  Science Fiction  TV Movie  Thriller  War  Western  \n",
      "0        0        0                0         0         0    0        0  \n",
      "1        0        0                0         0         1    0        0  \n",
      "2        0        1                0         0         0    0        0  \n",
      "3        0        0                0         0         0    0        0  \n",
      "4        0        0                0         0         0    0        0  \n",
      "\n",
      "[5 rows x 22 columns]\n",
      "Total genres: 20\n"
     ]
    }
   ],
   "source": [
    "print(\" Genres encoded with MultiLabelBinarizer\")\n",
    "print(movies_genres.head(5))\n",
    "print(f\"Total genres: {len(mlb.classes_)}\")"
   ]
  },
  {
   "cell_type": "code",
   "execution_count": 21,
   "id": "dac360b1",
   "metadata": {},
   "outputs": [
    {
     "name": "stdout",
     "output_type": "stream",
     "text": [
      " TF-IDF matrix created\n",
      "Shape: (3537, 5000)\n"
     ]
    }
   ],
   "source": [
    "from sklearn.feature_extraction.text import TfidfVectorizer\n",
    "\n",
    "# Step 2: TF-IDF on overview\n",
    "tfidf = TfidfVectorizer(max_features=5000, stop_words=\"english\")\n",
    "\n",
    "# Fit & transform the overview column\n",
    "tfidf_matrix = tfidf.fit_transform(movies[\"overview\"])\n",
    "\n",
    "print(\" TF-IDF matrix created\")\n",
    "print(f\"Shape: {tfidf_matrix.shape}\")  # (n_movies, 5000 features)\n"
   ]
  },
  {
   "cell_type": "code",
   "execution_count": 22,
   "id": "c8d9df63",
   "metadata": {},
   "outputs": [
    {
     "name": "stdout",
     "output_type": "stream",
     "text": [
      " Numeric features scaled\n",
      "Shape: (3537, 3)\n",
      "Sample (first 5 rows):\n",
      "[[0.24454148 0.68493151 0.08409696]\n",
      " [0.45851528 0.53424658 0.06831773]\n",
      " [0.35371179 0.52054795 0.01261963]\n",
      " [0.72925764 0.60273973 0.00429755]\n",
      " [0.41048035 0.4109589  0.00801985]]\n"
     ]
    }
   ],
   "source": [
    "from sklearn.preprocessing import MinMaxScaler\n",
    "\n",
    "# Step 3: Numeric features\n",
    "numeric_features = movies[[\"runtime\", \"vote_average\", \"popularity\"]]\n",
    "\n",
    "scaler = MinMaxScaler()\n",
    "numeric_scaled = scaler.fit_transform(numeric_features)\n",
    "\n",
    "print(\" Numeric features scaled\")\n",
    "print(f\"Shape: {numeric_scaled.shape}\")  # (n_movies, 3)\n",
    "print(\"Sample (first 5 rows):\")\n",
    "print(numeric_scaled[:5])\n"
   ]
  },
  {
   "cell_type": "code",
   "execution_count": 23,
   "id": "8d659887",
   "metadata": {},
   "outputs": [
    {
     "name": "stdout",
     "output_type": "stream",
     "text": [
      " Final Content Feature Matrix created\n",
      "Shape: (3537, 5023)\n"
     ]
    }
   ],
   "source": [
    "from scipy.sparse import hstack\n",
    "\n",
    "# Combine genres (sparse), overview (sparse), numeric (dense → sparse)\n",
    "from scipy.sparse import csr_matrix\n",
    "\n",
    "X_content = hstack([genres_encoded, tfidf_matrix, csr_matrix(numeric_scaled)])\n",
    "\n",
    "print(\" Final Content Feature Matrix created\")\n",
    "print(f\"Shape: {X_content.shape}\")\n"
   ]
  },
  {
   "cell_type": "code",
   "execution_count": 24,
   "id": "f82bbb33",
   "metadata": {},
   "outputs": [
    {
     "name": "stdout",
     "output_type": "stream",
     "text": [
      " Final Content Feature Matrix saved at: D:/movie_recommendation_system/rcmndn_model/trained_models/X_content.npz\n"
     ]
    }
   ],
   "source": [
    "from scipy.sparse import save_npz\n",
    "import os\n",
    "\n",
    "# Path to save processed features\n",
    "processed_dir = \"D:/movie_recommendation_system/rcmndn_model/trained_models\"\n",
    "os.makedirs(processed_dir, exist_ok=True)\n",
    "\n",
    "# Save the sparse feature matrix\n",
    "save_npz(os.path.join(processed_dir, \"X_content.npz\"), X_content)\n",
    "\n",
    "print(f\" Final Content Feature Matrix saved at: {processed_dir}/X_content.npz\")\n"
   ]
  },
  {
   "cell_type": "code",
   "execution_count": 25,
   "id": "0187bc85",
   "metadata": {},
   "outputs": [],
   "source": [
    "from sklearn.preprocessing import MinMaxScaler\n",
    "import numpy as np\n",
    "\n",
    "# --- Release Year ---\n",
    "# Extract year from release_date (fill missing with median year)\n",
    "movies[\"release_year\"] = pd.to_datetime(\n",
    "    movies[\"release_date\"], errors=\"coerce\"\n",
    ").dt.year\n",
    "movies[\"release_year\"] = movies[\"release_year\"].fillna(movies[\"release_year\"].median())\n",
    "\n",
    "# --- Vote Count ---\n",
    "# Log-transform to reduce skew, then fill missing\n",
    "movies[\"vote_count_log\"] = np.log1p(movies[\"vote_count\"].fillna(0))\n"
   ]
  },
  {
   "cell_type": "code",
   "execution_count": 26,
   "id": "1d96721b",
   "metadata": {},
   "outputs": [
    {
     "name": "stdout",
     "output_type": "stream",
     "text": [
      " Numeric features scaled\n",
      "Shape: (3537, 5)\n",
      "Sample (first 5 rows):\n",
      "[[0.24454148 0.68493151 0.08409696 0.79       0.89143942]\n",
      " [0.45851528 0.53424658 0.06831773 0.79       0.72159049]\n",
      " [0.35371179 0.52054795 0.01261963 0.79       0.5189042 ]\n",
      " [0.72925764 0.60273973 0.00429755 0.79       0.40556515]\n",
      " [0.41048035 0.4109589  0.00801985 0.79       0.47837237]]\n"
     ]
    }
   ],
   "source": [
    "scaler = MinMaxScaler()\n",
    "\n",
    "numeric_features = movies[[\"runtime\", \"vote_average\", \"popularity\", \"release_year\", \"vote_count_log\"]]\n",
    "numeric_scaled = scaler.fit_transform(numeric_features)\n",
    "\n",
    "print(\" Numeric features scaled\")\n",
    "print(f\"Shape: {numeric_scaled.shape}\")\n",
    "print(\"Sample (first 5 rows):\")\n",
    "print(numeric_scaled[:5])\n"
   ]
  },
  {
   "cell_type": "code",
   "execution_count": 27,
   "id": "8b69c804",
   "metadata": {},
   "outputs": [
    {
     "name": "stdout",
     "output_type": "stream",
     "text": [
      " Final Content Feature Matrix (v2) created\n",
      "Shape: (3537, 5025)\n"
     ]
    }
   ],
   "source": [
    "from scipy.sparse import hstack, csr_matrix\n",
    "from scipy.sparse import save_npz\n",
    "import os\n",
    "\n",
    "# Combine everything: genres (sparse) + overview (tfidf sparse) + numeric (dense → sparse)\n",
    "X_content_v2 = hstack([genres_encoded, tfidf_matrix, csr_matrix(numeric_scaled)])\n",
    "\n",
    "print(\" Final Content Feature Matrix (v2) created\")\n",
    "print(f\"Shape: {X_content_v2.shape}\")\n"
   ]
  },
  {
   "cell_type": "code",
   "execution_count": 28,
   "id": "06cab9bc",
   "metadata": {},
   "outputs": [
    {
     "name": "stdout",
     "output_type": "stream",
     "text": [
      " Final Content Feature Matrix (v2) saved at: D:/movie_recommendation_system/rcmndn_model/trained_models/X_content_v2.npz\n"
     ]
    }
   ],
   "source": [
    "# Save to trained_models\n",
    "trained_dir = \"D:/movie_recommendation_system/rcmndn_model/trained_models\"\n",
    "os.makedirs(trained_dir, exist_ok=True)\n",
    "\n",
    "save_npz(os.path.join(trained_dir, \"X_content_v2.npz\"), X_content_v2)\n",
    "\n",
    "print(f\" Final Content Feature Matrix (v2) saved at: {trained_dir}/X_content_v2.npz\")\n"
   ]
  }
 ],
 "metadata": {
  "kernelspec": {
   "display_name": ".venv (3.12.1)",
   "language": "python",
   "name": "python3"
  },
  "language_info": {
   "codemirror_mode": {
    "name": "ipython",
    "version": 3
   },
   "file_extension": ".py",
   "mimetype": "text/x-python",
   "name": "python",
   "nbconvert_exporter": "python",
   "pygments_lexer": "ipython3",
   "version": "3.12.1"
  }
 },
 "nbformat": 4,
 "nbformat_minor": 5
}
